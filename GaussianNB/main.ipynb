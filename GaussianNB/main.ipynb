{
 "cells": [
  {
   "cell_type": "code",
   "execution_count": 14,
   "metadata": {},
   "outputs": [],
   "source": [
    "# Required Python Machine learning Packages\n",
    "import numpy as np\n",
    "import pandas as pd"
   ]
  },
  {
   "cell_type": "code",
   "execution_count": 15,
   "metadata": {
    "scrolled": true
   },
   "outputs": [
    {
     "data": {
      "text/plain": "       age  workclass    education marital_status     occupation    race  \\\n32556   27    Private   University        Married   Tech-support   White   \n32557   40    Private      College        Married          Sales   White   \n32558   58    Private      College        Married   Tech-support   White   \n32559   22    Private      College         Single   Tech-support   White   \n32560   52   Self-emp      College        Married     Managerial   White   \n\n           sex  hours_per_week  native_country  income  \n32556   Female              38   United-States   <=50K  \n32557     Male              40   United-States    >50K  \n32558   Female              40   United-States   <=50K  \n32559     Male              20   United-States   <=50K  \n32560   Female              40   United-States    >50K  ",
      "text/html": "<div>\n<style scoped>\n    .dataframe tbody tr th:only-of-type {\n        vertical-align: middle;\n    }\n\n    .dataframe tbody tr th {\n        vertical-align: top;\n    }\n\n    .dataframe thead th {\n        text-align: right;\n    }\n</style>\n<table border=\"1\" class=\"dataframe\">\n  <thead>\n    <tr style=\"text-align: right;\">\n      <th></th>\n      <th>age</th>\n      <th>workclass</th>\n      <th>education</th>\n      <th>marital_status</th>\n      <th>occupation</th>\n      <th>race</th>\n      <th>sex</th>\n      <th>hours_per_week</th>\n      <th>native_country</th>\n      <th>income</th>\n    </tr>\n  </thead>\n  <tbody>\n    <tr>\n      <th>32556</th>\n      <td>27</td>\n      <td>Private</td>\n      <td>University</td>\n      <td>Married</td>\n      <td>Tech-support</td>\n      <td>White</td>\n      <td>Female</td>\n      <td>38</td>\n      <td>United-States</td>\n      <td>&lt;=50K</td>\n    </tr>\n    <tr>\n      <th>32557</th>\n      <td>40</td>\n      <td>Private</td>\n      <td>College</td>\n      <td>Married</td>\n      <td>Sales</td>\n      <td>White</td>\n      <td>Male</td>\n      <td>40</td>\n      <td>United-States</td>\n      <td>&gt;50K</td>\n    </tr>\n    <tr>\n      <th>32558</th>\n      <td>58</td>\n      <td>Private</td>\n      <td>College</td>\n      <td>Married</td>\n      <td>Tech-support</td>\n      <td>White</td>\n      <td>Female</td>\n      <td>40</td>\n      <td>United-States</td>\n      <td>&lt;=50K</td>\n    </tr>\n    <tr>\n      <th>32559</th>\n      <td>22</td>\n      <td>Private</td>\n      <td>College</td>\n      <td>Single</td>\n      <td>Tech-support</td>\n      <td>White</td>\n      <td>Male</td>\n      <td>20</td>\n      <td>United-States</td>\n      <td>&lt;=50K</td>\n    </tr>\n    <tr>\n      <th>32560</th>\n      <td>52</td>\n      <td>Self-emp</td>\n      <td>College</td>\n      <td>Married</td>\n      <td>Managerial</td>\n      <td>White</td>\n      <td>Female</td>\n      <td>40</td>\n      <td>United-States</td>\n      <td>&gt;50K</td>\n    </tr>\n  </tbody>\n</table>\n</div>"
     },
     "execution_count": 15,
     "metadata": {},
     "output_type": "execute_result"
    }
   ],
   "source": [
    "df = pd.read_csv('income1.csv')\n",
    "df.tail()"
   ]
  },
  {
   "cell_type": "code",
   "execution_count": 16,
   "metadata": {},
   "outputs": [
    {
     "data": {
      "text/plain": "age               0\nworkclass         0\neducation         0\nmarital_status    0\noccupation        0\nrace              0\nsex               0\nhours_per_week    0\nnative_country    0\nincome            0\ndtype: int64"
     },
     "execution_count": 16,
     "metadata": {},
     "output_type": "execute_result"
    }
   ],
   "source": [
    "df.isnull().sum()"
   ]
  },
  {
   "cell_type": "code",
   "execution_count": 17,
   "metadata": {
    "scrolled": true
   },
   "outputs": [
    {
     "name": "stdout",
     "output_type": "stream",
     "text": [
      "age : 0\n",
      "workclass : 0\n",
      "education : 0\n",
      "marital_status : 0\n",
      "occupation : 0\n",
      "race : 0\n",
      "sex : 0\n",
      "hours_per_week : 0\n",
      "native_country : 0\n",
      "income : 0\n"
     ]
    }
   ],
   "source": [
    "for value in df:\n",
    "    print(value, \":\", sum(df[value] == '?'))"
   ]
  },
  {
   "cell_type": "code",
   "execution_count": 18,
   "metadata": {
    "scrolled": true
   },
   "outputs": [
    {
     "name": "stdout",
     "output_type": "stream",
     "text": [
      "\n",
      " workclass [' State-gov' ' Self-emp' ' Private' ' Not-worked']\n",
      "\n",
      " education [' Bachelors' ' College' ' High_school' ' Masters' ' Second_school'\n",
      " ' University' ' Doctorate' ' Primary_school']\n",
      "\n",
      " marital_status [' Single' ' Married' ' Others']\n",
      "\n",
      " occupation [' Tech-support' ' Managerial' ' Shipper' ' Others' ' Doctor' ' Sales'\n",
      " ' Protective-serv' ' Pilot']\n",
      "\n",
      " race [' White' ' Black' ' Yellow' ' Other']\n",
      "\n",
      " sex [' Male' ' Female']\n",
      "\n",
      " native_country [' United-States' ' India' ' Vietnam' ' China' ' Canada' ' Philippines'\n",
      " ' England' ' Germany' ' Japan']\n",
      "\n",
      " income [' <=50K' ' >50K']\n"
     ]
    }
   ],
   "source": [
    "categorical = [var for var in df.columns if df[var].dtype=='O']\n",
    "for i in df[categorical]:\n",
    "    print('\\n', i, df[i].unique())"
   ]
  },
  {
   "cell_type": "code",
   "execution_count": 19,
   "metadata": {},
   "outputs": [
    {
     "data": {
      "text/plain": "<Figure size 576x288 with 1 Axes>",
      "image/png": "[encoded data removed]"
     },
     "metadata": {
      "needs_background": "light"
     },
     "output_type": "display_data"
    }
   ],
   "source": [
    "import matplotlib.pyplot as plt\n",
    "import seaborn as sns\n",
    "%matplotlib inline\n",
    "\n",
    "fig, ax = plt.subplots()\n",
    "fig.set_size_inches(8, 4)\n",
    "sns.countplot(x = 'income', data = df)\n",
    "ax.set_xlabel('Income', fontsize=15)\n",
    "ax.set_ylabel('Count', fontsize=15)\n",
    "ax.set_title('Income Count Distribution', fontsize=15)\n",
    "sns.despine()"
   ]
  },
  {
   "cell_type": "code",
   "execution_count": 20,
   "metadata": {},
   "outputs": [],
   "source": [
    "#import LabelEncoder để chuyển giá trị chuỗi thành giá trị số \n",
    "from sklearn import preprocessing\n",
    "from sklearn.preprocessing import LabelEncoder\n",
    "le = preprocessing.LabelEncoder()"
   ]
  },
  {
   "cell_type": "code",
   "execution_count": 21,
   "metadata": {},
   "outputs": [
    {
     "data": {
      "text/plain": "       age  workclass  education  marital_status  occupation  race  sex  \\\n32556   27          1          7               0           7     2    0   \n32557   40          1          1               0           5     2    1   \n32558   58          1          1               0           7     2    0   \n32559   22          1          1               2           7     2    1   \n32560   52          2          1               0           1     2    0   \n\n       hours_per_week  native_country  income  \n32556              38               7       0  \n32557              40               7       1  \n32558              40               7       0  \n32559              20               7       0  \n32560              40               7       1  ",
      "text/html": "<div>\n<style scoped>\n    .dataframe tbody tr th:only-of-type {\n        vertical-align: middle;\n    }\n\n    .dataframe tbody tr th {\n        vertical-align: top;\n    }\n\n    .dataframe thead th {\n        text-align: right;\n    }\n</style>\n<table border=\"1\" class=\"dataframe\">\n  <thead>\n    <tr style=\"text-align: right;\">\n      <th></th>\n      <th>age</th>\n      <th>workclass</th>\n      <th>education</th>\n      <th>marital_status</th>\n      <th>occupation</th>\n      <th>race</th>\n      <th>sex</th>\n      <th>hours_per_week</th>\n      <th>native_country</th>\n      <th>income</th>\n    </tr>\n  </thead>\n  <tbody>\n    <tr>\n      <th>32556</th>\n      <td>27</td>\n      <td>1</td>\n      <td>7</td>\n      <td>0</td>\n      <td>7</td>\n      <td>2</td>\n      <td>0</td>\n      <td>38</td>\n      <td>7</td>\n      <td>0</td>\n    </tr>\n    <tr>\n      <th>32557</th>\n      <td>40</td>\n      <td>1</td>\n      <td>1</td>\n      <td>0</td>\n      <td>5</td>\n      <td>2</td>\n      <td>1</td>\n      <td>40</td>\n      <td>7</td>\n      <td>1</td>\n    </tr>\n    <tr>\n      <th>32558</th>\n      <td>58</td>\n      <td>1</td>\n      <td>1</td>\n      <td>0</td>\n      <td>7</td>\n      <td>2</td>\n      <td>0</td>\n      <td>40</td>\n      <td>7</td>\n      <td>0</td>\n    </tr>\n    <tr>\n      <th>32559</th>\n      <td>22</td>\n      <td>1</td>\n      <td>1</td>\n      <td>2</td>\n      <td>7</td>\n      <td>2</td>\n      <td>1</td>\n      <td>20</td>\n      <td>7</td>\n      <td>0</td>\n    </tr>\n    <tr>\n      <th>32560</th>\n      <td>52</td>\n      <td>2</td>\n      <td>1</td>\n      <td>0</td>\n      <td>1</td>\n      <td>2</td>\n      <td>0</td>\n      <td>40</td>\n      <td>7</td>\n      <td>1</td>\n    </tr>\n  </tbody>\n</table>\n</div>"
     },
     "execution_count": 21,
     "metadata": {},
     "output_type": "execute_result"
    }
   ],
   "source": [
    "# chuyển string -> float\n",
    "df['workclass'] = le.fit_transform(df.workclass)\n",
    "df['education'] = le.fit_transform(df.education)\n",
    "df['marital_status'] = le.fit_transform(df.marital_status)\n",
    "df['occupation'] = le.fit_transform(df.occupation)\n",
    "df['race'] = le.fit_transform(df.race)\n",
    "df['sex'] = le.fit_transform(df.sex)\n",
    "df['native_country'] = le.fit_transform(df.native_country)\n",
    "df['income'] = le.fit_transform(df.income)\n",
    "\n",
    "df.tail()"
   ]
  },
  {
   "cell_type": "code",
   "execution_count": 22,
   "metadata": {},
   "outputs": [],
   "source": [
    "X = df.values[:, :-1]\n",
    "y = df.values[:, 9]"
   ]
  },
  {
   "cell_type": "code",
   "execution_count": 23,
   "metadata": {},
   "outputs": [],
   "source": [
    "#import train_test_split, size test = 30%\n",
    "from sklearn.model_selection import train_test_split\n",
    "X_train, X_test, y_train, y_test = train_test_split(X, y, test_size=0.33, random_state=100)"
   ]
  },
  {
   "cell_type": "code",
   "execution_count": 24,
   "metadata": {},
   "outputs": [],
   "source": [
    "# To model the Gaussian Navie Bayes classifier\n",
    "from sklearn.naive_bayes import GaussianNB\n",
    "model = GaussianNB()\n",
    "train = model.fit(X_train, y_train)\n",
    "\n",
    "y_pred = model.predict(X_test)"
   ]
  },
  {
   "cell_type": "code",
   "execution_count": 25,
   "metadata": {},
   "outputs": [
    {
     "data": {
      "text/plain": "['Completed_model1.joblib']"
     },
     "execution_count": 25,
     "metadata": {},
     "output_type": "execute_result"
    }
   ],
   "source": [
    "import joblib\n",
    "filename = \"Completed_model1.joblib\"\n",
    "joblib.dump(model, filename)"
   ]
  },
  {
   "cell_type": "code",
   "execution_count": 26,
   "metadata": {},
   "outputs": [
    {
     "name": "stdout",
     "output_type": "stream",
     "text": [
      "[[6765 1471]\n",
      " [ 727 1783]]\n",
      "Accuracy model: 79.55%\n"
     ]
    }
   ],
   "source": [
    "# To calculate the accuracy score of the model\n",
    "from sklearn.metrics import confusion_matrix, accuracy_score\n",
    "\n",
    "print(confusion_matrix(y_test, y_pred))\n",
    "print(f'Accuracy model: {accuracy_score(y_test, y_pred)* 100:.2f}%')"
   ]
  },
  {
   "cell_type": "code",
   "execution_count": 26,
   "metadata": {},
   "outputs": [],
   "source": []
  }
 ],
 "metadata": {
  "kernelspec": {
   "display_name": "Python 3",
   "language": "python",
   "name": "python3"
  },
  "language_info": {
   "codemirror_mode": {
    "name": "ipython",
    "version": 3
   },
   "file_extension": ".py",
   "mimetype": "text/x-python",
   "name": "python",
   "nbconvert_exporter": "python",
   "pygments_lexer": "ipython3",
   "version": "3.8.8"
  }
 },
 "nbformat": 4,
 "nbformat_minor": 1
}