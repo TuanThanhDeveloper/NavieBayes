{
 "cells": [
  {
   "cell_type": "code",
   "execution_count": 1,
   "id": "397795fb",
   "metadata": {},
   "outputs": [],
   "source": [
    "import pandas as pd"
   ]
  },
  {
   "cell_type": "code",
   "execution_count": 2,
   "id": "4e287eca",
   "metadata": {},
   "outputs": [
    {
     "data": {
      "text/html": [
       "<div>\n",
       "<style scoped>\n",
       "    .dataframe tbody tr th:only-of-type {\n",
       "        vertical-align: middle;\n",
       "    }\n",
       "\n",
       "    .dataframe tbody tr th {\n",
       "        vertical-align: top;\n",
       "    }\n",
       "\n",
       "    .dataframe thead th {\n",
       "        text-align: right;\n",
       "    }\n",
       "</style>\n",
       "<table border=\"1\" class=\"dataframe\">\n",
       "  <thead>\n",
       "    <tr style=\"text-align: right;\">\n",
       "      <th></th>\n",
       "      <th>OriginalTweet</th>\n",
       "      <th>Sentiment</th>\n",
       "    </tr>\n",
       "  </thead>\n",
       "  <tbody>\n",
       "    <tr>\n",
       "      <th>71917</th>\n",
       "      <td>Best phone at this price.</td>\n",
       "      <td>positive</td>\n",
       "    </tr>\n",
       "    <tr>\n",
       "      <th>71918</th>\n",
       "      <td>If you intend to use this phone on T Mobile be...</td>\n",
       "      <td>positive</td>\n",
       "    </tr>\n",
       "    <tr>\n",
       "      <th>71919</th>\n",
       "      <td>Here is my Moto G7 Play complaint: It freezes ...</td>\n",
       "      <td>positive</td>\n",
       "    </tr>\n",
       "    <tr>\n",
       "      <th>71920</th>\n",
       "      <td>As far as function works great camera no go wo...</td>\n",
       "      <td>positive</td>\n",
       "    </tr>\n",
       "    <tr>\n",
       "      <th>71921</th>\n",
       "      <td>What a great phone! Sleek, fast, great soundin...</td>\n",
       "      <td>positive</td>\n",
       "    </tr>\n",
       "  </tbody>\n",
       "</table>\n",
       "</div>"
      ],
      "text/plain": [
       "                                           OriginalTweet Sentiment\n",
       "71917                          Best phone at this price.  positive\n",
       "71918  If you intend to use this phone on T Mobile be...  positive\n",
       "71919  Here is my Moto G7 Play complaint: It freezes ...  positive\n",
       "71920  As far as function works great camera no go wo...  positive\n",
       "71921  What a great phone! Sleek, fast, great soundin...  positive"
      ]
     },
     "execution_count": 2,
     "metadata": {},
     "output_type": "execute_result"
    }
   ],
   "source": [
    "# reading data\n",
    "df = pd.read_csv(\"AmazonMobile.csv\", encoding=\"ISO-8859-1\")\n",
    "df.tail()"
   ]
  },
  {
   "cell_type": "code",
   "execution_count": 3,
   "id": "c7bf6c31",
   "metadata": {},
   "outputs": [
    {
     "name": "stdout",
     "output_type": "stream",
     "text": [
      "<class 'pandas.core.frame.DataFrame'>\n",
      "RangeIndex: 71922 entries, 0 to 71921\n",
      "Data columns (total 2 columns):\n",
      " #   Column         Non-Null Count  Dtype \n",
      "---  ------         --------------  ----- \n",
      " 0   OriginalTweet  71922 non-null  object\n",
      " 1   Sentiment      71922 non-null  object\n",
      "dtypes: object(2)\n",
      "memory usage: 1.1+ MB\n"
     ]
    },
    {
     "data": {
      "text/plain": [
       "OriginalTweet    0\n",
       "Sentiment        0\n",
       "dtype: int64"
      ]
     },
     "execution_count": 3,
     "metadata": {},
     "output_type": "execute_result"
    }
   ],
   "source": [
    "# take a look at the type, number of columns, entries, null values etc..\n",
    "df.info()\n",
    "df.isna().sum()"
   ]
  },
  {
   "cell_type": "code",
   "execution_count": 5,
   "id": "dc843396",
   "metadata": {},
   "outputs": [
    {
     "name": "stdout",
     "output_type": "stream",
     "text": [
      "Value Percentage: \n",
      " positive    79.964406\n",
      "negative    20.035594\n",
      "Name: Sentiment, dtype: float64\n"
     ]
    }
   ],
   "source": [
    "# value percentage\n",
    "print(\"Value Percentage: \\n\",df['Sentiment'].value_counts() * 100 / len(df['Sentiment']))"
   ]
  },
  {
   "cell_type": "code",
   "execution_count": 6,
   "id": "3e005b53",
   "metadata": {},
   "outputs": [],
   "source": [
    "# Chuyển các từ có nghĩa giống nhau thành 1 dạng: ví dụ include, included -> include\n",
    "from nltk.corpus import stopwords\n",
    "from nltk.stem.porter import PorterStemmer\n",
    "import re\n",
    "ps = PorterStemmer()\n",
    "stop_words = stopwords.words(\"english\")"
   ]
  },
  {
   "cell_type": "code",
   "execution_count": 7,
   "id": "3cd0241f",
   "metadata": {},
   "outputs": [],
   "source": [
    "def remove_stopwords(text):\n",
    "    \"\"\"Lọc lại các tweet\n",
    "\n",
    "    returns: corpus of stemmed words\"\"\"\n",
    "\n",
    "    text = re.sub('^a-zA-Z', ' ', text)\n",
    "    text = text.split()\n",
    "    text = [ps.stem(word) for word in text if word not in stop_words]\n",
    "    text = ' '.join(text).replace('  ', ' ')\n",
    "    return text"
   ]
  },
  {
   "cell_type": "code",
   "execution_count": 8,
   "id": "c6208eb8",
   "metadata": {},
   "outputs": [
    {
     "data": {
      "text/plain": [
       "0        i samsung a600 awhil absolut doo doo. you read...\n",
       "1        due softwar issu nokia sprint phone' text mess...\n",
       "2        thi great, reliabl phone. i also purchas phone...\n",
       "3        i love phone all, i realli need one, i expect ...\n",
       "4        the phone great everi purpos offers, except da...\n",
       "                               ...                        \n",
       "71917                                    best phone price.\n",
       "71918    if intend use phone t mobil awar dual sim inte...\n",
       "71919    here moto g7 play complaint: it freez everi ti...\n",
       "71920    as far function work great camera go wors firs...\n",
       "71921    what great phone! sleek, fast, great sound bui...\n",
       "Name: removed_stopwords, Length: 71922, dtype: object"
      ]
     },
     "execution_count": 8,
     "metadata": {},
     "output_type": "execute_result"
    }
   ],
   "source": [
    "# Lọc tweet\n",
    "\n",
    "df[\"removed_stopwords\"] = df.OriginalTweet.apply(remove_stopwords)\n",
    "df[\"removed_stopwords\"]"
   ]
  },
  {
   "cell_type": "code",
   "execution_count": 9,
   "id": "accf215a",
   "metadata": {},
   "outputs": [],
   "source": [
    "from sklearn.feature_extraction.text import CountVectorizer, TfidfTransformer\n",
    "cv = CountVectorizer(max_features=2500)\n",
    "X = cv.fit(df.removed_stopwords)"
   ]
  },
  {
   "cell_type": "code",
   "execution_count": 10,
   "id": "1f546cbd",
   "metadata": {},
   "outputs": [],
   "source": [
    "A = X.transform(df.removed_stopwords)\n",
    "tfidfTransformer = TfidfTransformer().fit(A)\n",
    "title_tfid = tfidfTransformer.transform(A)"
   ]
  },
  {
   "cell_type": "code",
   "execution_count": 11,
   "id": "378a4fb2",
   "metadata": {},
   "outputs": [],
   "source": [
    "from sklearn.model_selection import train_test_split\n",
    "X_train, X_test, y_train, y_test = train_test_split(title_tfid, df.Sentiment, test_size=0.3, shuffle=False)"
   ]
  },
  {
   "cell_type": "code",
   "execution_count": 12,
   "id": "0dcc4aa8",
   "metadata": {},
   "outputs": [
    {
     "data": {
      "text/plain": [
       "array(['positive', 'positive', 'positive', ..., 'positive', 'positive',\n",
       "       'positive'], dtype='<U8')"
      ]
     },
     "execution_count": 12,
     "metadata": {},
     "output_type": "execute_result"
    }
   ],
   "source": [
    "from sklearn.naive_bayes import MultinomialNB\n",
    "model = MultinomialNB().fit(X_train, y_train)\n",
    "multi_pred = model.predict(X_test)\n",
    "multi_pred"
   ]
  },
  {
   "cell_type": "code",
   "execution_count": 13,
   "id": "70cb7bb5",
   "metadata": {},
   "outputs": [
    {
     "name": "stdout",
     "output_type": "stream",
     "text": [
      "MultinomialNB Accuracy Score: 87.37%\n"
     ]
    }
   ],
   "source": [
    "from sklearn.metrics import accuracy_score\n",
    "score_multi = accuracy_score(multi_pred, y_test)\n",
    "print(f\"MultinomialNB Accuracy Score: {score_multi * 100:.2f}%\")"
   ]
  }
 ],
 "metadata": {
  "kernelspec": {
   "display_name": "Python 3",
   "language": "python",
   "name": "python3"
  },
  "language_info": {
   "codemirror_mode": {
    "name": "ipython",
    "version": 3
   },
   "file_extension": ".py",
   "mimetype": "text/x-python",
   "name": "python",
   "nbconvert_exporter": "python",
   "pygments_lexer": "ipython3",
   "version": "3.8.8"
  }
 },
 "nbformat": 4,
 "nbformat_minor": 5
}
